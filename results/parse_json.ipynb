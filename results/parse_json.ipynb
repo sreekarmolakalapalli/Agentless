{
 "cells": [
  {
   "cell_type": "code",
   "execution_count": 2,
   "metadata": {},
   "outputs": [],
   "source": [
    "import json\n",
    "import pandas as pd\n",
    "import time\n"
   ]
  },
  {
   "cell_type": "code",
   "execution_count": null,
   "metadata": {},
   "outputs": [],
   "source": [
    "# Q: How does fail2pass compare without fail2pass?"
   ]
  },
  {
   "cell_type": "code",
   "execution_count": 3,
   "metadata": {},
   "outputs": [],
   "source": [
    "localization_path = \"./location/loc_outputs.jsonl\"\n",
    "repair_path = \"./repair/output.jsonl\""
   ]
  },
  {
   "cell_type": "code",
   "execution_count": 43,
   "metadata": {},
   "outputs": [],
   "source": [
    "repair_df = pd.read_json(repair_path, lines=True)\n",
    "localization_df = pd.read_json(localization_path, lines=True)"
   ]
  },
  {
   "cell_type": "code",
   "execution_count": 40,
   "metadata": {},
   "outputs": [
    {
     "name": "stdout",
     "output_type": "stream",
     "text": [
      "  model_name_or_path           instance_id  \\\n",
      "0          agentless  django__django-11039   \n",
      "\n",
      "                                         model_patch  \\\n",
      "0  diff --git a/django/core/management/commands/s...   \n",
      "\n",
      "                                     raw_model_patch  \\\n",
      "0  diff --git a/django/core/management/commands/s...   \n",
      "\n",
      "                               original_file_content  \n",
      "0  from django.apps import apps\\nfrom django.core...  \n"
     ]
    }
   ],
   "source": [
    "num_out_files = 10\n",
    "output_processed = []\n",
    "for i in range(num_out_files):\n",
    "    path = f\"repair/output_{i}_processed.jsonl\"\n",
    "    output_processed.append(pd.read_json(path, lines=True))\n",
    "\n",
    "print(output_processed[0])\n"
   ]
  },
  {
   "cell_type": "code",
   "execution_count": 45,
   "metadata": {},
   "outputs": [],
   "source": [
    "repair_dict = repair_df.loc[0].to_dict()\n",
    "localization_dict = localization_df.loc[0].to_dict()"
   ]
  },
  {
   "cell_type": "code",
   "execution_count": 46,
   "metadata": {},
   "outputs": [
    {
     "name": "stdout",
     "output_type": "stream",
     "text": [
      "    instance_id\n",
      "    django__django-11039\n",
      "    raw_output\n",
      "      Based on the issue statement and the provided patch, the bug is in the `sqlmigrate` command where it only considers `migration.atomic` and not `connection.features.can_rollback_ddl` when deciding whet\n",
      "      Based on the issue description and the provided patch, it is clear that the problem lies in the `sqlmigrate` command not considering whether the database supports transactional DDL when deciding wheth\n",
      "      Here is the *SEARCH/REPLACE* edit to fix the issue in `django/core/management/commands/sqlmigrate.py`:  ```python ### django/core/management/commands/sqlmigrate.py <<<<<<< SEARCH         # Show begin/\n",
      "      Sure, based on the issue statement and the provided patch, we need to adjust the logic in `sqlmigrate.py` to also consider `connection.features.can_rollback_ddl` when setting `self.output_transaction`\n",
      "      Sure, based on the issue statement and the provided patch, here is the *SEARCH/REPLACE* edit to fix the issue in the `sqlmigrate.py` file:  ```python ### django/core/management/commands/sqlmigrate.py \n",
      "      Based on the provided issue statement and the code snippets, we need to make sure that the `output_transaction` attribute in the `sqlmigrate` command also considers the `connection.features.can_rollba\n",
      "      Based on the issue statement and the provided patch, it appears that the bug lies in the `sqlmigrate.py` file. The `self.output_transaction` should consider both `migration.atomic` and `connection.fea\n",
      "      Based on the issue description and the provided patch, we need to modify the `sqlmigrate` command to consider both `migration.atomic` and `connection.features.can_rollback_ddl` when determining if tra\n",
      "      Based on the issue description, we need to update the logic in `sqlmigrate.py` to consider both `migration.atomic` and `connection.features.can_rollback_ddl` when determining whether to include transa\n",
      "      Here are the *SEARCH/REPLACE* edits to address the issue:  ```python ### django/core/management/commands/sqlmigrate.py <<<<<<< SEARCH         # Show begin/end around output only for atomic migrations \n",
      "    all_generations\n",
      "        Based on the issue statement and the provided patch, the bug is in the `sqlmigrate` command where it only considers `migration.atomic` and not `connection.features.can_rollback_ddl` when deciding whet\n",
      "        Based on the issue description and the provided patch, it is clear that the problem lies in the `sqlmigrate` command not considering whether the database supports transactional DDL when deciding wheth\n",
      "        Here is the *SEARCH/REPLACE* edit to fix the issue in `django/core/management/commands/sqlmigrate.py`:  ```python ### django/core/management/commands/sqlmigrate.py <<<<<<< SEARCH         # Show begin/\n",
      "        Sure, based on the issue statement and the provided patch, we need to adjust the logic in `sqlmigrate.py` to also consider `connection.features.can_rollback_ddl` when setting `self.output_transaction`\n",
      "        Sure, based on the issue statement and the provided patch, here is the *SEARCH/REPLACE* edit to fix the issue in the `sqlmigrate.py` file:  ```python ### django/core/management/commands/sqlmigrate.py \n",
      "        Based on the provided issue statement and the code snippets, we need to make sure that the `output_transaction` attribute in the `sqlmigrate` command also considers the `connection.features.can_rollba\n",
      "        Based on the issue statement and the provided patch, it appears that the bug lies in the `sqlmigrate.py` file. The `self.output_transaction` should consider both `migration.atomic` and `connection.fea\n",
      "        Based on the issue description and the provided patch, we need to modify the `sqlmigrate` command to consider both `migration.atomic` and `connection.features.can_rollback_ddl` when determining if tra\n",
      "        Based on the issue description, we need to update the logic in `sqlmigrate.py` to consider both `migration.atomic` and `connection.features.can_rollback_ddl` when determining whether to include transa\n",
      "        Here are the *SEARCH/REPLACE* edits to address the issue:  ```python ### django/core/management/commands/sqlmigrate.py <<<<<<< SEARCH         # Show begin/end around output only for atomic migrations \n",
      "    try_count\n",
      "    traj\n",
      "          response\n",
      "          Based on the issue statement and the provided patch, the bug is in the `sqlmigrate` command where it only considers `migration.atomic` and not `connection.features.can_rollback_ddl` when deciding whet\n",
      "          usage\n",
      "              completion_tokens\n",
      "              prompt_tokens\n",
      "          prompt\n",
      "          We are currently solving the following issue within our repository. Here is the issue text: --- BEGIN ISSUE --- sqlmigrate wraps it's outpout in BEGIN/COMMIT even if the database doesn't support trans\n",
      "          response\n",
      "          Based on the issue description and the provided patch, it is clear that the problem lies in the `sqlmigrate` command not considering whether the database supports transactional DDL when deciding wheth\n",
      "          usage\n",
      "              completion_tokens\n",
      "              prompt_tokens\n",
      "          prompt\n",
      "          We are currently solving the following issue within our repository. Here is the issue text: --- BEGIN ISSUE --- sqlmigrate wraps it's outpout in BEGIN/COMMIT even if the database doesn't support trans\n",
      "          response\n",
      "          Here is the *SEARCH/REPLACE* edit to fix the issue in `django/core/management/commands/sqlmigrate.py`:  ```python ### django/core/management/commands/sqlmigrate.py <<<<<<< SEARCH         # Show begin/\n",
      "          usage\n",
      "              completion_tokens\n",
      "              prompt_tokens\n",
      "          prompt\n",
      "          We are currently solving the following issue within our repository. Here is the issue text: --- BEGIN ISSUE --- sqlmigrate wraps it's outpout in BEGIN/COMMIT even if the database doesn't support trans\n",
      "          response\n",
      "          Sure, based on the issue statement and the provided patch, we need to adjust the logic in `sqlmigrate.py` to also consider `connection.features.can_rollback_ddl` when setting `self.output_transaction`\n",
      "          usage\n",
      "              completion_tokens\n",
      "              prompt_tokens\n",
      "          prompt\n",
      "          We are currently solving the following issue within our repository. Here is the issue text: --- BEGIN ISSUE --- sqlmigrate wraps it's outpout in BEGIN/COMMIT even if the database doesn't support trans\n",
      "          response\n",
      "          Sure, based on the issue statement and the provided patch, here is the *SEARCH/REPLACE* edit to fix the issue in the `sqlmigrate.py` file:  ```python ### django/core/management/commands/sqlmigrate.py \n",
      "          usage\n",
      "              completion_tokens\n",
      "              prompt_tokens\n",
      "          prompt\n",
      "          We are currently solving the following issue within our repository. Here is the issue text: --- BEGIN ISSUE --- sqlmigrate wraps it's outpout in BEGIN/COMMIT even if the database doesn't support trans\n",
      "          response\n",
      "          Based on the provided issue statement and the code snippets, we need to make sure that the `output_transaction` attribute in the `sqlmigrate` command also considers the `connection.features.can_rollba\n",
      "          usage\n",
      "              completion_tokens\n",
      "              prompt_tokens\n",
      "          prompt\n",
      "          We are currently solving the following issue within our repository. Here is the issue text: --- BEGIN ISSUE --- sqlmigrate wraps it's outpout in BEGIN/COMMIT even if the database doesn't support trans\n",
      "          response\n",
      "          Based on the issue statement and the provided patch, it appears that the bug lies in the `sqlmigrate.py` file. The `self.output_transaction` should consider both `migration.atomic` and `connection.fea\n",
      "          usage\n",
      "              completion_tokens\n",
      "              prompt_tokens\n",
      "          prompt\n",
      "          We are currently solving the following issue within our repository. Here is the issue text: --- BEGIN ISSUE --- sqlmigrate wraps it's outpout in BEGIN/COMMIT even if the database doesn't support trans\n",
      "          response\n",
      "          Based on the issue description and the provided patch, we need to modify the `sqlmigrate` command to consider both `migration.atomic` and `connection.features.can_rollback_ddl` when determining if tra\n",
      "          usage\n",
      "              completion_tokens\n",
      "              prompt_tokens\n",
      "          prompt\n",
      "          We are currently solving the following issue within our repository. Here is the issue text: --- BEGIN ISSUE --- sqlmigrate wraps it's outpout in BEGIN/COMMIT even if the database doesn't support trans\n",
      "          response\n",
      "          Based on the issue description, we need to update the logic in `sqlmigrate.py` to consider both `migration.atomic` and `connection.features.can_rollback_ddl` when determining whether to include transa\n",
      "          usage\n",
      "              completion_tokens\n",
      "              prompt_tokens\n",
      "          prompt\n",
      "          We are currently solving the following issue within our repository. Here is the issue text: --- BEGIN ISSUE --- sqlmigrate wraps it's outpout in BEGIN/COMMIT even if the database doesn't support trans\n",
      "          response\n",
      "          Here are the *SEARCH/REPLACE* edits to address the issue:  ```python ### django/core/management/commands/sqlmigrate.py <<<<<<< SEARCH         # Show begin/end around output only for atomic migrations \n",
      "          usage\n",
      "              completion_tokens\n",
      "              prompt_tokens\n",
      "          prompt\n",
      "          We are currently solving the following issue within our repository. Here is the issue text: --- BEGIN ISSUE --- sqlmigrate wraps it's outpout in BEGIN/COMMIT even if the database doesn't support trans\n",
      "    prev_content\n",
      "        from django.apps import apps from django.core.management.base import BaseCommand, CommandError from django.db import DEFAULT_DB_ALIAS, connections from django.db.migrations.executor import MigrationEx\n",
      "        from django.apps import apps from django.core.management.base import BaseCommand, CommandError from django.db import DEFAULT_DB_ALIAS, connections from django.db.migrations.executor import MigrationEx\n",
      "        from django.apps import apps from django.core.management.base import BaseCommand, CommandError from django.db import DEFAULT_DB_ALIAS, connections from django.db.migrations.executor import MigrationEx\n",
      "        from django.apps import apps from django.core.management.base import BaseCommand, CommandError from django.db import DEFAULT_DB_ALIAS, connections from django.db.migrations.executor import MigrationEx\n",
      "        from django.apps import apps from django.core.management.base import BaseCommand, CommandError from django.db import DEFAULT_DB_ALIAS, connections from django.db.migrations.executor import MigrationEx\n",
      "        from django.apps import apps from django.core.management.base import BaseCommand, CommandError from django.db import DEFAULT_DB_ALIAS, connections from django.db.migrations.executor import MigrationEx\n",
      "        from django.apps import apps from django.core.management.base import BaseCommand, CommandError from django.db import DEFAULT_DB_ALIAS, connections from django.db.migrations.executor import MigrationEx\n",
      "        from django.apps import apps from django.core.management.base import BaseCommand, CommandError from django.db import DEFAULT_DB_ALIAS, connections from django.db.migrations.executor import MigrationEx\n",
      "        from django.apps import apps from django.core.management.base import BaseCommand, CommandError from django.db import DEFAULT_DB_ALIAS, connections from django.db.migrations.executor import MigrationEx\n",
      "        from django.apps import apps from django.core.management.base import BaseCommand, CommandError from django.db import DEFAULT_DB_ALIAS, connections from django.db.migrations.executor import MigrationEx\n",
      "    file_names\n",
      "        django/core/management/commands/sqlmigrate.py\n",
      "        django/core/management/commands/sqlmigrate.py\n",
      "        django/core/management/commands/sqlmigrate.py\n",
      "        django/core/management/commands/sqlmigrate.py\n",
      "        django/core/management/commands/sqlmigrate.py\n",
      "        django/core/management/commands/sqlmigrate.py\n",
      "        django/core/management/commands/sqlmigrate.py\n",
      "        django/core/management/commands/sqlmigrate.py\n",
      "        django/core/management/commands/sqlmigrate.py\n",
      "        django/core/management/commands/sqlmigrate.py\n"
     ]
    }
   ],
   "source": [
    "# Useful for figuring out the structure of a json file\n",
    "\n",
    "def recurse(depth, data):\n",
    "    #print(type(data))\n",
    "    # time.sleep(.2)\n",
    "\n",
    "    if type(data) == str:\n",
    "        s = data[:200].replace('\\n', ' ')\n",
    "        print(f'{depth * \"  \"}{s}')\n",
    "        return\n",
    "\n",
    "    if type(data) == tuple:\n",
    "        for elem in data:\n",
    "            recurse(depth+1, elem)\n",
    "        return\n",
    "    if type(data) == list:\n",
    "        for elem in data:\n",
    "            recurse(depth+1, elem)\n",
    "    if type(data) == dict:\n",
    "        for item in data.items():\n",
    "            recurse(depth+1, item)\n",
    "\n",
    "recurse(0, repair_dict)"
   ]
  },
  {
   "cell_type": "code",
   "execution_count": null,
   "metadata": {},
   "outputs": [],
   "source": [
    "# TODO: Run our sample without fail2pass so we can compare the generated patches"
   ]
  },
  {
   "cell_type": "markdown",
   "metadata": {},
   "source": [
    "# Q: How does adding fail-to-pass in prompt compare with swe-bench gold?"
   ]
  },
  {
   "cell_type": "code",
   "execution_count": 34,
   "metadata": {},
   "outputs": [],
   "source": [
    "from datasets import load_dataset\n",
    "\n",
    "swe_ds = load_dataset(\"princeton-nlp/SWE-bench\")"
   ]
  },
  {
   "cell_type": "code",
   "execution_count": 35,
   "metadata": {},
   "outputs": [
    {
     "name": "stdout",
     "output_type": "stream",
     "text": [
      "128\n"
     ]
    }
   ],
   "source": [
    "# Q: Where's the repo we're testing with in the swe bench dataset?\n",
    "\n",
    "text = \"django__django-11039\"\n",
    "for i in range(len(swe_ds[\"test\"]['instance_id'])):\n",
    "    if swe_ds['test']['instance_id'][i] == text:\n",
    "        print(i)\n",
    "\n",
    "# A: index 128 in 'test'"
   ]
  },
  {
   "cell_type": "code",
   "execution_count": 36,
   "metadata": {},
   "outputs": [
    {
     "data": {
      "text/plain": [
       "'diff --git a/django/core/management/commands/sqlmigrate.py b/django/core/management/commands/sqlmigrate.py\\n--- a/django/core/management/commands/sqlmigrate.py\\n+++ b/django/core/management/commands/sqlmigrate.py\\n@@ -55,8 +55,9 @@ def handle(self, *args, **options):\\n                 migration_name, app_label))\\n         targets = [(app_label, migration.name)]\\n \\n-        # Show begin/end around output only for atomic migrations\\n-        self.output_transaction = migration.atomic\\n+        # Show begin/end around output for atomic migrations, if the database\\n+        # supports transactional DDL.\\n+        self.output_transaction = migration.atomic and connection.features.can_rollback_ddl\\n \\n         # Make a plan that represents just the requested migrations and show SQL\\n         # for it\\n'"
      ]
     },
     "execution_count": 36,
     "metadata": {},
     "output_type": "execute_result"
    }
   ],
   "source": [
    "swe_ds['test'][128][\"patch\"]"
   ]
  }
 ],
 "metadata": {
  "kernelspec": {
   "display_name": "Python 3",
   "language": "python",
   "name": "python3"
  },
  "language_info": {
   "codemirror_mode": {
    "name": "ipython",
    "version": 3
   },
   "file_extension": ".py",
   "mimetype": "text/x-python",
   "name": "python",
   "nbconvert_exporter": "python",
   "pygments_lexer": "ipython3",
   "version": "3.10.12"
  }
 },
 "nbformat": 4,
 "nbformat_minor": 2
}
